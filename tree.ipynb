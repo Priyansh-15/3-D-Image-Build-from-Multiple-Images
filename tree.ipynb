{
 "cells": [
  {
   "cell_type": "code",
   "execution_count": 1,
   "id": "66417671",
   "metadata": {},
   "outputs": [
    {
     "name": "stdout",
     "output_type": "stream",
     "text": [
      "importing Jupyter notebook from shape.ipynb\n"
     ]
    }
   ],
   "source": [
    "import import_ipynb\n",
    "from shape import node\n",
    "\n",
    "def writetofile(filename, string):\n",
    "    file = open(filename, \"a\")\n",
    "    file.write(string)\n",
    "    file.close()\n",
    "\n",
    "def createtree(nodes, filename):\n",
    "    if(len(nodes) == 0):\n",
    "        print(\"No shapes detected\")\n",
    "        return\n",
    "    subtree = []\n",
    "    string = ''\n",
    "    present = node()\n",
    "    present.left = nodes[0]\n",
    "    nodes[0].name()\n",
    "    present.string = nodes[0].string\n",
    "    if(len(nodes) == 1):\n",
    "        writetofile(filename, present.string)\n",
    "    for i, object in enumerate(nodes[1:]):\n",
    "        object.name()\n",
    "        if(object.operation != 'None'):\n",
    "            if(present.right == 'None'):\n",
    "                present.right = object\n",
    "                present.string = object.operation + \"() {\\n\\t\" + present.string + '\\n\\t' + object.string + '}\\n'\n",
    "                string = present.string\n",
    "            else:\n",
    "                temp = present\n",
    "                present = node()\n",
    "                present.left = temp\n",
    "                present.string = temp.string\n",
    "                present.right = object\n",
    "                present.string = object.operation + \"() {\\n\\t\" + present.left.string + '\\n\\t' + object.string + '}\\n'\n",
    "                string = present.string\n",
    "        else:\n",
    "            if(present.right == 'None'):\n",
    "                writetofile(filename, present.string)\n",
    "            subtree.append(present)\n",
    "            writetofile(filename, string)\n",
    "            string = ''\n",
    "            present = node()\n",
    "            present.left = object\n",
    "            present.string = object.string\n",
    "            if(i == len(nodes)-2):\n",
    "                writetofile(filename, present.string)\n",
    "    if(string != ''):\n",
    "        writetofile(filename, string)\n",
    "    subtree.append(present)\n",
    "    print(\"Subtree:\", len(subtree))"
   ]
  }
 ],
 "metadata": {
  "kernelspec": {
   "display_name": "Python 3 (ipykernel)",
   "language": "python",
   "name": "python3"
  },
  "language_info": {
   "codemirror_mode": {
    "name": "ipython",
    "version": 3
   },
   "file_extension": ".py",
   "mimetype": "text/x-python",
   "name": "python",
   "nbconvert_exporter": "python",
   "pygments_lexer": "ipython3",
   "version": "3.9.7"
  }
 },
 "nbformat": 4,
 "nbformat_minor": 5
}
